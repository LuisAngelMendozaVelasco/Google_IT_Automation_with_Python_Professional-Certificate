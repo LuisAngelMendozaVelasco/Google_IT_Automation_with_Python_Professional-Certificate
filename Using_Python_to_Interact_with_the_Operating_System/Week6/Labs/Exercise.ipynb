{
 "cells": [
  {
   "cell_type": "markdown",
   "metadata": {},
   "source": [
    "# Exercise"
   ]
  },
  {
   "cell_type": "code",
   "execution_count": 1,
   "metadata": {},
   "outputs": [
    {
     "name": "stdout",
     "output_type": "stream",
     "text": [
      "001 jane /data/jane_profile_07272018.doc\n",
      "002 kwood /data/kwood_profile_04022017.doc\n",
      "003 pchow /data/pchow_profile_05152019.doc\n",
      "004 janez /data/janez_profile_11042019.doc\n",
      "005 jane /data/jane_pic_07282018.jpg\n",
      "006 kwood /data/kwood_pic_04032017.jpg\n",
      "007 pchow /data/pchow_pic_05162019.jpg\n",
      "008 jane /data/jane_contact_07292018.csv\n",
      "009 kwood /data/kwood_contact_04042017.csv\n",
      "010 pchow /data/pchow_contact_05172019.csv\n"
     ]
    }
   ],
   "source": [
    "%%bash\n",
    "cat ./data/list.txt"
   ]
  },
  {
   "cell_type": "code",
   "execution_count": 2,
   "metadata": {},
   "outputs": [
    {
     "name": "stdout",
     "output_type": "stream",
     "text": [
      "001 jane /data/jane_profile_07272018.doc\n",
      "004 janez /data/janez_profile_11042019.doc\n",
      "005 jane /data/jane_pic_07282018.jpg\n",
      "008 jane /data/jane_contact_07292018.csv\n"
     ]
    }
   ],
   "source": [
    "%%bash\n",
    "grep 'jane' ./data/list.txt"
   ]
  },
  {
   "cell_type": "code",
   "execution_count": 3,
   "metadata": {},
   "outputs": [
    {
     "name": "stdout",
     "output_type": "stream",
     "text": [
      "001 jane /data/jane_profile_07272018.doc\n",
      "005 jane /data/jane_pic_07282018.jpg\n",
      "008 jane /data/jane_contact_07292018.csv\n"
     ]
    }
   ],
   "source": [
    "%%bash\n",
    "grep ' jane ' ./data/list.txt"
   ]
  },
  {
   "cell_type": "code",
   "execution_count": 5,
   "metadata": {},
   "outputs": [
    {
     "name": "stdout",
     "output_type": "stream",
     "text": [
      "001\n",
      "005\n",
      "008\n"
     ]
    }
   ],
   "source": [
    "%%bash\n",
    "grep \" jane \" ./data/list.txt | cut -d ' ' -f 1"
   ]
  },
  {
   "cell_type": "code",
   "execution_count": 7,
   "metadata": {},
   "outputs": [
    {
     "name": "stdout",
     "output_type": "stream",
     "text": [
      "jane\n",
      "jane\n",
      "jane\n"
     ]
    }
   ],
   "source": [
    "%%bash\n",
    "grep \" jane \" ./data/list.txt | cut -d ' ' -f 2"
   ]
  },
  {
   "cell_type": "code",
   "execution_count": 8,
   "metadata": {},
   "outputs": [
    {
     "name": "stdout",
     "output_type": "stream",
     "text": [
      "/data/jane_profile_07272018.doc\n",
      "/data/jane_pic_07282018.jpg\n",
      "/data/jane_contact_07292018.csv\n"
     ]
    }
   ],
   "source": [
    "%%bash\n",
    "grep \" jane \" ./data/list.txt | cut -d ' ' -f 3"
   ]
  },
  {
   "cell_type": "code",
   "execution_count": 10,
   "metadata": {},
   "outputs": [
    {
     "name": "stdout",
     "output_type": "stream",
     "text": [
      "001 jane /data/jane_profile_07272018.doc\n",
      "005 jane /data/jane_pic_07282018.jpg\n",
      "008 jane /data/jane_contact_07292018.csv\n"
     ]
    }
   ],
   "source": [
    "%%bash\n",
    "grep \" jane \" ./data/list.txt | cut -d ' ' -f 1-3"
   ]
  },
  {
   "cell_type": "code",
   "execution_count": 11,
   "metadata": {},
   "outputs": [
    {
     "name": "stdout",
     "output_type": "stream",
     "text": [
      "001 /data/jane_profile_07272018.doc\n",
      "005 /data/jane_pic_07282018.jpg\n",
      "008 /data/jane_contact_07292018.csv\n"
     ]
    }
   ],
   "source": [
    "%%bash\n",
    "grep \" jane \" ./data/list.txt | cut -d ' ' -f 1,3"
   ]
  },
  {
   "cell_type": "code",
   "execution_count": 12,
   "metadata": {},
   "outputs": [
    {
     "name": "stdout",
     "output_type": "stream",
     "text": [
      "File exists\n"
     ]
    }
   ],
   "source": [
    "%%bash\n",
    "if test -e ./data/jane_profile_07272018.doc; \n",
    "then \n",
    "    echo \"File exists\"; \n",
    "else\n",
    "    echo \"File doesn't exist\"; \n",
    "fi"
   ]
  },
  {
   "cell_type": "code",
   "execution_count": 13,
   "metadata": {},
   "outputs": [],
   "source": [
    "%%bash\n",
    "> ./data/test.txt"
   ]
  },
  {
   "cell_type": "code",
   "execution_count": 15,
   "metadata": {},
   "outputs": [],
   "source": [
    "%%bash\n",
    "echo \"I am appending text to this test file\" >> ../data/test.txt"
   ]
  },
  {
   "cell_type": "code",
   "execution_count": 16,
   "metadata": {},
   "outputs": [
    {
     "name": "stdout",
     "output_type": "stream",
     "text": [
      "I am appending text to this test file\n"
     ]
    }
   ],
   "source": [
    "%%bash\n",
    "cat ./data/test.txt"
   ]
  },
  {
   "cell_type": "code",
   "execution_count": 17,
   "metadata": {},
   "outputs": [
    {
     "name": "stdout",
     "output_type": "stream",
     "text": [
      "1\n",
      "2\n",
      "3\n"
     ]
    }
   ],
   "source": [
    "%%bash\n",
    "for i in 1 2 3; \n",
    "do \n",
    "    echo $i; \n",
    "done"
   ]
  }
 ],
 "metadata": {
  "kernelspec": {
   "display_name": "base",
   "language": "python",
   "name": "python3"
  },
  "language_info": {
   "codemirror_mode": {
    "name": "ipython",
    "version": 3
   },
   "file_extension": ".py",
   "mimetype": "text/x-python",
   "name": "python",
   "nbconvert_exporter": "python",
   "pygments_lexer": "ipython3",
   "version": "3.11.5"
  }
 },
 "nbformat": 4,
 "nbformat_minor": 2
}
